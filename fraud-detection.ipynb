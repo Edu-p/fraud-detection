{
  "cells": [
    {
      "cell_type": "markdown",
      "metadata": {
        "id": "trEvQTc0RZ6c"
      },
      "source": [
        "# 0.0 Imports \n",
        " "
      ]
    },
    {
      "cell_type": "code",
      "source": [
        "!pip install matplotlib --upgrade"
      ],
      "metadata": {
        "colab": {
          "base_uri": "https://localhost:8080/"
        },
        "id": "wfwFqWyExJ-R",
        "outputId": "b28c7b3b-e953-4d08-b34d-5b3f6c07cf4f"
      },
      "execution_count": null,
      "outputs": [
        {
          "output_type": "stream",
          "name": "stdout",
          "text": [
            "Requirement already satisfied: matplotlib in /usr/local/lib/python3.7/dist-packages (3.5.2)\n",
            "Requirement already satisfied: packaging>=20.0 in /usr/local/lib/python3.7/dist-packages (from matplotlib) (21.3)\n",
            "Requirement already satisfied: python-dateutil>=2.7 in /usr/local/lib/python3.7/dist-packages (from matplotlib) (2.8.2)\n",
            "Requirement already satisfied: fonttools>=4.22.0 in /usr/local/lib/python3.7/dist-packages (from matplotlib) (4.33.3)\n",
            "Requirement already satisfied: kiwisolver>=1.0.1 in /usr/local/lib/python3.7/dist-packages (from matplotlib) (1.4.2)\n",
            "Requirement already satisfied: pyparsing>=2.2.1 in /usr/local/lib/python3.7/dist-packages (from matplotlib) (3.0.9)\n",
            "Requirement already satisfied: cycler>=0.10 in /usr/local/lib/python3.7/dist-packages (from matplotlib) (0.11.0)\n",
            "Requirement already satisfied: pillow>=6.2.0 in /usr/local/lib/python3.7/dist-packages (from matplotlib) (7.1.2)\n",
            "Requirement already satisfied: numpy>=1.17 in /usr/local/lib/python3.7/dist-packages (from matplotlib) (1.21.6)\n",
            "Requirement already satisfied: typing-extensions in /usr/local/lib/python3.7/dist-packages (from kiwisolver>=1.0.1->matplotlib) (4.2.0)\n",
            "Requirement already satisfied: six>=1.5 in /usr/local/lib/python3.7/dist-packages (from python-dateutil>=2.7->matplotlib) (1.15.0)\n"
          ]
        }
      ]
    },
    {
      "cell_type": "code",
      "source": [
        "from google.colab import drive\n",
        "drive.mount('/content/drive')"
      ],
      "metadata": {
        "colab": {
          "base_uri": "https://localhost:8080/"
        },
        "id": "Fp9Q45fEejwS",
        "outputId": "f76d3684-2b73-4d19-ddf9-5b0b53166fac"
      },
      "execution_count": null,
      "outputs": [
        {
          "output_type": "stream",
          "name": "stdout",
          "text": [
            "Mounted at /content/drive\n"
          ]
        }
      ]
    },
    {
      "cell_type": "code",
      "execution_count": null,
      "metadata": {
        "id": "8Xt4RiHOWvIn"
      },
      "outputs": [],
      "source": [
        "import math\n",
        "\n",
        "import pandas as pd\n",
        "\n",
        "from sklearn.decomposition import PCA\n",
        "from sklearn import preprocessing \n",
        "from sklearn.preprocessing import LabelEncoder\n",
        "from sklearn.model_selection import train_test_split\n",
        "from sklearn.ensemble import RandomForestClassifier\n",
        "from sklearn.metrics import classification_report, precision_score, recall_score\n",
        "from sklearn.naive_bayes import GaussianNB\n",
        "from sklearn.neural_network import MLPClassifier\n",
        "from sklearn.model_selection import StratifiedKFold\n",
        "from sklearn import metrics\n",
        "\n",
        "import sys\n",
        "\n",
        "import numpy as np\n",
        "\n",
        "import seaborn as sns\n",
        "\n",
        "from matplotlib import pyplot as plt"
      ]
    },
    {
      "cell_type": "code",
      "source": [
        "# Caminho do arquivo no drive de Matheus\n",
        "df_raw = pd.read_csv('/content/drive/MyDrive/Dataset_SI/Fraud.csv')"
      ],
      "metadata": {
        "id": "HC5owdRXOqZ3"
      },
      "execution_count": null,
      "outputs": []
    },
    {
      "cell_type": "markdown",
      "metadata": {
        "id": "9T8kjN2XRiGl"
      },
      "source": [
        "# 1.0 Descriçao dos dados"
      ]
    },
    {
      "cell_type": "code",
      "source": [
        "df_raw.nunique()"
      ],
      "metadata": {
        "colab": {
          "base_uri": "https://localhost:8080/"
        },
        "id": "sFWUQnFdyNBO",
        "outputId": "d5e185a2-785c-4b0a-e04e-43b3fa07fda2"
      },
      "execution_count": null,
      "outputs": [
        {
          "output_type": "execute_result",
          "data": {
            "text/plain": [
              "step                  743\n",
              "type                    5\n",
              "amount            5316900\n",
              "nameOrig          6353307\n",
              "oldbalanceOrg     1845844\n",
              "newbalanceOrig    2682586\n",
              "nameDest          2722362\n",
              "oldbalanceDest    3614697\n",
              "newbalanceDest    3555499\n",
              "isFraud                 2\n",
              "isFlaggedFraud          2\n",
              "dtype: int64"
            ]
          },
          "metadata": {},
          "execution_count": 6
        }
      ]
    },
    {
      "cell_type": "code",
      "source": [
        "df_raw.info()"
      ],
      "metadata": {
        "colab": {
          "base_uri": "https://localhost:8080/"
        },
        "id": "saW0lfTtxo6c",
        "outputId": "b80a63fb-18cd-4f9e-dfaa-8fd5e9e398df"
      },
      "execution_count": null,
      "outputs": [
        {
          "output_type": "stream",
          "name": "stdout",
          "text": [
            "<class 'pandas.core.frame.DataFrame'>\n",
            "RangeIndex: 6362620 entries, 0 to 6362619\n",
            "Data columns (total 11 columns):\n",
            " #   Column          Dtype  \n",
            "---  ------          -----  \n",
            " 0   step            int64  \n",
            " 1   type            object \n",
            " 2   amount          float64\n",
            " 3   nameOrig        object \n",
            " 4   oldbalanceOrg   float64\n",
            " 5   newbalanceOrig  float64\n",
            " 6   nameDest        object \n",
            " 7   oldbalanceDest  float64\n",
            " 8   newbalanceDest  float64\n",
            " 9   isFraud         int64  \n",
            " 10  isFlaggedFraud  int64  \n",
            "dtypes: float64(5), int64(3), object(3)\n",
            "memory usage: 534.0+ MB\n"
          ]
        }
      ]
    },
    {
      "cell_type": "markdown",
      "metadata": {
        "id": "lCNxs3VZgMLl"
      },
      "source": [
        "## 1.1 Check Nan"
      ]
    },
    {
      "cell_type": "code",
      "execution_count": null,
      "metadata": {
        "colab": {
          "base_uri": "https://localhost:8080/"
        },
        "id": "DgzYx2P4RVG0",
        "outputId": "3fd8103c-bd4d-4279-c367-f95ae1d4bbf9"
      },
      "outputs": [
        {
          "output_type": "execute_result",
          "data": {
            "text/plain": [
              "step              0\n",
              "type              0\n",
              "amount            0\n",
              "nameOrig          0\n",
              "oldbalanceOrg     0\n",
              "newbalanceOrig    0\n",
              "nameDest          0\n",
              "oldbalanceDest    0\n",
              "newbalanceDest    0\n",
              "isFraud           0\n",
              "isFlaggedFraud    0\n",
              "dtype: int64"
            ]
          },
          "metadata": {},
          "execution_count": 8
        }
      ],
      "source": [
        "df_raw.isna().sum()"
      ]
    },
    {
      "cell_type": "markdown",
      "metadata": {
        "id": "ki9UWcZtgSBe"
      },
      "source": [
        "## 1.2 Data types"
      ]
    },
    {
      "cell_type": "code",
      "execution_count": null,
      "metadata": {
        "colab": {
          "base_uri": "https://localhost:8080/",
          "height": 424
        },
        "id": "ClWJFbKukVmd",
        "outputId": "7fc06eca-44cc-4390-e9e6-4adc3d69897a"
      },
      "outputs": [
        {
          "output_type": "execute_result",
          "data": {
            "text/plain": [
              "         step      type      amount     nameOrig  oldbalanceOrg  \\\n",
              "0           1   PAYMENT     9839.64  C1231006815      170136.00   \n",
              "1           1   PAYMENT     1864.28  C1666544295       21249.00   \n",
              "2           1  TRANSFER      181.00  C1305486145         181.00   \n",
              "3           1  CASH_OUT      181.00   C840083671         181.00   \n",
              "4           1   PAYMENT    11668.14  C2048537720       41554.00   \n",
              "...       ...       ...         ...          ...            ...   \n",
              "6362615   743  CASH_OUT   339682.13   C786484425      339682.13   \n",
              "6362616   743  TRANSFER  6311409.28  C1529008245     6311409.28   \n",
              "6362617   743  CASH_OUT  6311409.28  C1162922333     6311409.28   \n",
              "6362618   743  TRANSFER   850002.52  C1685995037      850002.52   \n",
              "6362619   743  CASH_OUT   850002.52  C1280323807      850002.52   \n",
              "\n",
              "         newbalanceOrig     nameDest  oldbalanceDest  newbalanceDest  isFraud  \\\n",
              "0             160296.36  M1979787155            0.00            0.00        0   \n",
              "1              19384.72  M2044282225            0.00            0.00        0   \n",
              "2                  0.00   C553264065            0.00            0.00        1   \n",
              "3                  0.00    C38997010        21182.00            0.00        1   \n",
              "4              29885.86  M1230701703            0.00            0.00        0   \n",
              "...                 ...          ...             ...             ...      ...   \n",
              "6362615            0.00   C776919290            0.00       339682.13        1   \n",
              "6362616            0.00  C1881841831            0.00            0.00        1   \n",
              "6362617            0.00  C1365125890        68488.84      6379898.11        1   \n",
              "6362618            0.00  C2080388513            0.00            0.00        1   \n",
              "6362619            0.00   C873221189      6510099.11      7360101.63        1   \n",
              "\n",
              "         isFlaggedFraud  \n",
              "0                     0  \n",
              "1                     0  \n",
              "2                     0  \n",
              "3                     0  \n",
              "4                     0  \n",
              "...                 ...  \n",
              "6362615               0  \n",
              "6362616               0  \n",
              "6362617               0  \n",
              "6362618               0  \n",
              "6362619               0  \n",
              "\n",
              "[6362620 rows x 11 columns]"
            ],
            "text/html": [
              "\n",
              "  <div id=\"df-5c4d0a98-d79c-49c9-88b0-5a92699a4d7a\">\n",
              "    <div class=\"colab-df-container\">\n",
              "      <div>\n",
              "<style scoped>\n",
              "    .dataframe tbody tr th:only-of-type {\n",
              "        vertical-align: middle;\n",
              "    }\n",
              "\n",
              "    .dataframe tbody tr th {\n",
              "        vertical-align: top;\n",
              "    }\n",
              "\n",
              "    .dataframe thead th {\n",
              "        text-align: right;\n",
              "    }\n",
              "</style>\n",
              "<table border=\"1\" class=\"dataframe\">\n",
              "  <thead>\n",
              "    <tr style=\"text-align: right;\">\n",
              "      <th></th>\n",
              "      <th>step</th>\n",
              "      <th>type</th>\n",
              "      <th>amount</th>\n",
              "      <th>nameOrig</th>\n",
              "      <th>oldbalanceOrg</th>\n",
              "      <th>newbalanceOrig</th>\n",
              "      <th>nameDest</th>\n",
              "      <th>oldbalanceDest</th>\n",
              "      <th>newbalanceDest</th>\n",
              "      <th>isFraud</th>\n",
              "      <th>isFlaggedFraud</th>\n",
              "    </tr>\n",
              "  </thead>\n",
              "  <tbody>\n",
              "    <tr>\n",
              "      <th>0</th>\n",
              "      <td>1</td>\n",
              "      <td>PAYMENT</td>\n",
              "      <td>9839.64</td>\n",
              "      <td>C1231006815</td>\n",
              "      <td>170136.00</td>\n",
              "      <td>160296.36</td>\n",
              "      <td>M1979787155</td>\n",
              "      <td>0.00</td>\n",
              "      <td>0.00</td>\n",
              "      <td>0</td>\n",
              "      <td>0</td>\n",
              "    </tr>\n",
              "    <tr>\n",
              "      <th>1</th>\n",
              "      <td>1</td>\n",
              "      <td>PAYMENT</td>\n",
              "      <td>1864.28</td>\n",
              "      <td>C1666544295</td>\n",
              "      <td>21249.00</td>\n",
              "      <td>19384.72</td>\n",
              "      <td>M2044282225</td>\n",
              "      <td>0.00</td>\n",
              "      <td>0.00</td>\n",
              "      <td>0</td>\n",
              "      <td>0</td>\n",
              "    </tr>\n",
              "    <tr>\n",
              "      <th>2</th>\n",
              "      <td>1</td>\n",
              "      <td>TRANSFER</td>\n",
              "      <td>181.00</td>\n",
              "      <td>C1305486145</td>\n",
              "      <td>181.00</td>\n",
              "      <td>0.00</td>\n",
              "      <td>C553264065</td>\n",
              "      <td>0.00</td>\n",
              "      <td>0.00</td>\n",
              "      <td>1</td>\n",
              "      <td>0</td>\n",
              "    </tr>\n",
              "    <tr>\n",
              "      <th>3</th>\n",
              "      <td>1</td>\n",
              "      <td>CASH_OUT</td>\n",
              "      <td>181.00</td>\n",
              "      <td>C840083671</td>\n",
              "      <td>181.00</td>\n",
              "      <td>0.00</td>\n",
              "      <td>C38997010</td>\n",
              "      <td>21182.00</td>\n",
              "      <td>0.00</td>\n",
              "      <td>1</td>\n",
              "      <td>0</td>\n",
              "    </tr>\n",
              "    <tr>\n",
              "      <th>4</th>\n",
              "      <td>1</td>\n",
              "      <td>PAYMENT</td>\n",
              "      <td>11668.14</td>\n",
              "      <td>C2048537720</td>\n",
              "      <td>41554.00</td>\n",
              "      <td>29885.86</td>\n",
              "      <td>M1230701703</td>\n",
              "      <td>0.00</td>\n",
              "      <td>0.00</td>\n",
              "      <td>0</td>\n",
              "      <td>0</td>\n",
              "    </tr>\n",
              "    <tr>\n",
              "      <th>...</th>\n",
              "      <td>...</td>\n",
              "      <td>...</td>\n",
              "      <td>...</td>\n",
              "      <td>...</td>\n",
              "      <td>...</td>\n",
              "      <td>...</td>\n",
              "      <td>...</td>\n",
              "      <td>...</td>\n",
              "      <td>...</td>\n",
              "      <td>...</td>\n",
              "      <td>...</td>\n",
              "    </tr>\n",
              "    <tr>\n",
              "      <th>6362615</th>\n",
              "      <td>743</td>\n",
              "      <td>CASH_OUT</td>\n",
              "      <td>339682.13</td>\n",
              "      <td>C786484425</td>\n",
              "      <td>339682.13</td>\n",
              "      <td>0.00</td>\n",
              "      <td>C776919290</td>\n",
              "      <td>0.00</td>\n",
              "      <td>339682.13</td>\n",
              "      <td>1</td>\n",
              "      <td>0</td>\n",
              "    </tr>\n",
              "    <tr>\n",
              "      <th>6362616</th>\n",
              "      <td>743</td>\n",
              "      <td>TRANSFER</td>\n",
              "      <td>6311409.28</td>\n",
              "      <td>C1529008245</td>\n",
              "      <td>6311409.28</td>\n",
              "      <td>0.00</td>\n",
              "      <td>C1881841831</td>\n",
              "      <td>0.00</td>\n",
              "      <td>0.00</td>\n",
              "      <td>1</td>\n",
              "      <td>0</td>\n",
              "    </tr>\n",
              "    <tr>\n",
              "      <th>6362617</th>\n",
              "      <td>743</td>\n",
              "      <td>CASH_OUT</td>\n",
              "      <td>6311409.28</td>\n",
              "      <td>C1162922333</td>\n",
              "      <td>6311409.28</td>\n",
              "      <td>0.00</td>\n",
              "      <td>C1365125890</td>\n",
              "      <td>68488.84</td>\n",
              "      <td>6379898.11</td>\n",
              "      <td>1</td>\n",
              "      <td>0</td>\n",
              "    </tr>\n",
              "    <tr>\n",
              "      <th>6362618</th>\n",
              "      <td>743</td>\n",
              "      <td>TRANSFER</td>\n",
              "      <td>850002.52</td>\n",
              "      <td>C1685995037</td>\n",
              "      <td>850002.52</td>\n",
              "      <td>0.00</td>\n",
              "      <td>C2080388513</td>\n",
              "      <td>0.00</td>\n",
              "      <td>0.00</td>\n",
              "      <td>1</td>\n",
              "      <td>0</td>\n",
              "    </tr>\n",
              "    <tr>\n",
              "      <th>6362619</th>\n",
              "      <td>743</td>\n",
              "      <td>CASH_OUT</td>\n",
              "      <td>850002.52</td>\n",
              "      <td>C1280323807</td>\n",
              "      <td>850002.52</td>\n",
              "      <td>0.00</td>\n",
              "      <td>C873221189</td>\n",
              "      <td>6510099.11</td>\n",
              "      <td>7360101.63</td>\n",
              "      <td>1</td>\n",
              "      <td>0</td>\n",
              "    </tr>\n",
              "  </tbody>\n",
              "</table>\n",
              "<p>6362620 rows × 11 columns</p>\n",
              "</div>\n",
              "      <button class=\"colab-df-convert\" onclick=\"convertToInteractive('df-5c4d0a98-d79c-49c9-88b0-5a92699a4d7a')\"\n",
              "              title=\"Convert this dataframe to an interactive table.\"\n",
              "              style=\"display:none;\">\n",
              "        \n",
              "  <svg xmlns=\"http://www.w3.org/2000/svg\" height=\"24px\"viewBox=\"0 0 24 24\"\n",
              "       width=\"24px\">\n",
              "    <path d=\"M0 0h24v24H0V0z\" fill=\"none\"/>\n",
              "    <path d=\"M18.56 5.44l.94 2.06.94-2.06 2.06-.94-2.06-.94-.94-2.06-.94 2.06-2.06.94zm-11 1L8.5 8.5l.94-2.06 2.06-.94-2.06-.94L8.5 2.5l-.94 2.06-2.06.94zm10 10l.94 2.06.94-2.06 2.06-.94-2.06-.94-.94-2.06-.94 2.06-2.06.94z\"/><path d=\"M17.41 7.96l-1.37-1.37c-.4-.4-.92-.59-1.43-.59-.52 0-1.04.2-1.43.59L10.3 9.45l-7.72 7.72c-.78.78-.78 2.05 0 2.83L4 21.41c.39.39.9.59 1.41.59.51 0 1.02-.2 1.41-.59l7.78-7.78 2.81-2.81c.8-.78.8-2.07 0-2.86zM5.41 20L4 18.59l7.72-7.72 1.47 1.35L5.41 20z\"/>\n",
              "  </svg>\n",
              "      </button>\n",
              "      \n",
              "  <style>\n",
              "    .colab-df-container {\n",
              "      display:flex;\n",
              "      flex-wrap:wrap;\n",
              "      gap: 12px;\n",
              "    }\n",
              "\n",
              "    .colab-df-convert {\n",
              "      background-color: #E8F0FE;\n",
              "      border: none;\n",
              "      border-radius: 50%;\n",
              "      cursor: pointer;\n",
              "      display: none;\n",
              "      fill: #1967D2;\n",
              "      height: 32px;\n",
              "      padding: 0 0 0 0;\n",
              "      width: 32px;\n",
              "    }\n",
              "\n",
              "    .colab-df-convert:hover {\n",
              "      background-color: #E2EBFA;\n",
              "      box-shadow: 0px 1px 2px rgba(60, 64, 67, 0.3), 0px 1px 3px 1px rgba(60, 64, 67, 0.15);\n",
              "      fill: #174EA6;\n",
              "    }\n",
              "\n",
              "    [theme=dark] .colab-df-convert {\n",
              "      background-color: #3B4455;\n",
              "      fill: #D2E3FC;\n",
              "    }\n",
              "\n",
              "    [theme=dark] .colab-df-convert:hover {\n",
              "      background-color: #434B5C;\n",
              "      box-shadow: 0px 1px 3px 1px rgba(0, 0, 0, 0.15);\n",
              "      filter: drop-shadow(0px 1px 2px rgba(0, 0, 0, 0.3));\n",
              "      fill: #FFFFFF;\n",
              "    }\n",
              "  </style>\n",
              "\n",
              "      <script>\n",
              "        const buttonEl =\n",
              "          document.querySelector('#df-5c4d0a98-d79c-49c9-88b0-5a92699a4d7a button.colab-df-convert');\n",
              "        buttonEl.style.display =\n",
              "          google.colab.kernel.accessAllowed ? 'block' : 'none';\n",
              "\n",
              "        async function convertToInteractive(key) {\n",
              "          const element = document.querySelector('#df-5c4d0a98-d79c-49c9-88b0-5a92699a4d7a');\n",
              "          const dataTable =\n",
              "            await google.colab.kernel.invokeFunction('convertToInteractive',\n",
              "                                                     [key], {});\n",
              "          if (!dataTable) return;\n",
              "\n",
              "          const docLinkHtml = 'Like what you see? Visit the ' +\n",
              "            '<a target=\"_blank\" href=https://colab.research.google.com/notebooks/data_table.ipynb>data table notebook</a>'\n",
              "            + ' to learn more about interactive tables.';\n",
              "          element.innerHTML = '';\n",
              "          dataTable['output_type'] = 'display_data';\n",
              "          await google.colab.output.renderOutput(dataTable, element);\n",
              "          const docLink = document.createElement('div');\n",
              "          docLink.innerHTML = docLinkHtml;\n",
              "          element.appendChild(docLink);\n",
              "        }\n",
              "      </script>\n",
              "    </div>\n",
              "  </div>\n",
              "  "
            ]
          },
          "metadata": {},
          "execution_count": 9
        }
      ],
      "source": [
        "df_raw"
      ]
    },
    {
      "cell_type": "code",
      "execution_count": null,
      "metadata": {
        "colab": {
          "base_uri": "https://localhost:8080/"
        },
        "id": "qAaF2785aGc8",
        "outputId": "9eb820f0-cc7a-4877-9877-bb9ac8e2e161"
      },
      "outputs": [
        {
          "output_type": "execute_result",
          "data": {
            "text/plain": [
              "step                int64\n",
              "type               object\n",
              "amount            float64\n",
              "nameOrig           object\n",
              "oldbalanceOrg     float64\n",
              "newbalanceOrig    float64\n",
              "nameDest           object\n",
              "oldbalanceDest    float64\n",
              "newbalanceDest    float64\n",
              "isFraud             int64\n",
              "isFlaggedFraud      int64\n",
              "dtype: object"
            ]
          },
          "metadata": {},
          "execution_count": 10
        }
      ],
      "source": [
        "df_raw.dtypes"
      ]
    },
    {
      "cell_type": "markdown",
      "metadata": {
        "id": "AqOs45JqgWhk"
      },
      "source": [
        "## 1.3 Descriptive statistical"
      ]
    },
    {
      "cell_type": "code",
      "execution_count": null,
      "metadata": {
        "colab": {
          "base_uri": "https://localhost:8080/",
          "height": 300
        },
        "id": "nbXT61uNeRwV",
        "outputId": "f75d0c5d-b2e5-4f31-a3ed-abd6daad9b37"
      },
      "outputs": [
        {
          "output_type": "execute_result",
          "data": {
            "text/plain": [
              "                    count          mean           std  min       25%  \\\n",
              "step            6362620.0  2.433972e+02  1.423320e+02  1.0    156.00   \n",
              "amount          6362620.0  1.798619e+05  6.038582e+05  0.0  13389.57   \n",
              "oldbalanceOrg   6362620.0  8.338831e+05  2.888243e+06  0.0      0.00   \n",
              "newbalanceOrig  6362620.0  8.551137e+05  2.924049e+06  0.0      0.00   \n",
              "oldbalanceDest  6362620.0  1.100702e+06  3.399180e+06  0.0      0.00   \n",
              "newbalanceDest  6362620.0  1.224996e+06  3.674129e+06  0.0      0.00   \n",
              "isFraud         6362620.0  1.290820e-03  3.590480e-02  0.0      0.00   \n",
              "isFlaggedFraud  6362620.0  2.514687e-06  1.585775e-03  0.0      0.00   \n",
              "\n",
              "                       50%           75%           max  \n",
              "step               239.000  3.350000e+02  7.430000e+02  \n",
              "amount           74871.940  2.087215e+05  9.244552e+07  \n",
              "oldbalanceOrg    14208.000  1.073152e+05  5.958504e+07  \n",
              "newbalanceOrig       0.000  1.442584e+05  4.958504e+07  \n",
              "oldbalanceDest  132705.665  9.430367e+05  3.560159e+08  \n",
              "newbalanceDest  214661.440  1.111909e+06  3.561793e+08  \n",
              "isFraud              0.000  0.000000e+00  1.000000e+00  \n",
              "isFlaggedFraud       0.000  0.000000e+00  1.000000e+00  "
            ],
            "text/html": [
              "\n",
              "  <div id=\"df-3f2d3d2d-a99b-455e-a9ed-d0a51f2b4e31\">\n",
              "    <div class=\"colab-df-container\">\n",
              "      <div>\n",
              "<style scoped>\n",
              "    .dataframe tbody tr th:only-of-type {\n",
              "        vertical-align: middle;\n",
              "    }\n",
              "\n",
              "    .dataframe tbody tr th {\n",
              "        vertical-align: top;\n",
              "    }\n",
              "\n",
              "    .dataframe thead th {\n",
              "        text-align: right;\n",
              "    }\n",
              "</style>\n",
              "<table border=\"1\" class=\"dataframe\">\n",
              "  <thead>\n",
              "    <tr style=\"text-align: right;\">\n",
              "      <th></th>\n",
              "      <th>count</th>\n",
              "      <th>mean</th>\n",
              "      <th>std</th>\n",
              "      <th>min</th>\n",
              "      <th>25%</th>\n",
              "      <th>50%</th>\n",
              "      <th>75%</th>\n",
              "      <th>max</th>\n",
              "    </tr>\n",
              "  </thead>\n",
              "  <tbody>\n",
              "    <tr>\n",
              "      <th>step</th>\n",
              "      <td>6362620.0</td>\n",
              "      <td>2.433972e+02</td>\n",
              "      <td>1.423320e+02</td>\n",
              "      <td>1.0</td>\n",
              "      <td>156.00</td>\n",
              "      <td>239.000</td>\n",
              "      <td>3.350000e+02</td>\n",
              "      <td>7.430000e+02</td>\n",
              "    </tr>\n",
              "    <tr>\n",
              "      <th>amount</th>\n",
              "      <td>6362620.0</td>\n",
              "      <td>1.798619e+05</td>\n",
              "      <td>6.038582e+05</td>\n",
              "      <td>0.0</td>\n",
              "      <td>13389.57</td>\n",
              "      <td>74871.940</td>\n",
              "      <td>2.087215e+05</td>\n",
              "      <td>9.244552e+07</td>\n",
              "    </tr>\n",
              "    <tr>\n",
              "      <th>oldbalanceOrg</th>\n",
              "      <td>6362620.0</td>\n",
              "      <td>8.338831e+05</td>\n",
              "      <td>2.888243e+06</td>\n",
              "      <td>0.0</td>\n",
              "      <td>0.00</td>\n",
              "      <td>14208.000</td>\n",
              "      <td>1.073152e+05</td>\n",
              "      <td>5.958504e+07</td>\n",
              "    </tr>\n",
              "    <tr>\n",
              "      <th>newbalanceOrig</th>\n",
              "      <td>6362620.0</td>\n",
              "      <td>8.551137e+05</td>\n",
              "      <td>2.924049e+06</td>\n",
              "      <td>0.0</td>\n",
              "      <td>0.00</td>\n",
              "      <td>0.000</td>\n",
              "      <td>1.442584e+05</td>\n",
              "      <td>4.958504e+07</td>\n",
              "    </tr>\n",
              "    <tr>\n",
              "      <th>oldbalanceDest</th>\n",
              "      <td>6362620.0</td>\n",
              "      <td>1.100702e+06</td>\n",
              "      <td>3.399180e+06</td>\n",
              "      <td>0.0</td>\n",
              "      <td>0.00</td>\n",
              "      <td>132705.665</td>\n",
              "      <td>9.430367e+05</td>\n",
              "      <td>3.560159e+08</td>\n",
              "    </tr>\n",
              "    <tr>\n",
              "      <th>newbalanceDest</th>\n",
              "      <td>6362620.0</td>\n",
              "      <td>1.224996e+06</td>\n",
              "      <td>3.674129e+06</td>\n",
              "      <td>0.0</td>\n",
              "      <td>0.00</td>\n",
              "      <td>214661.440</td>\n",
              "      <td>1.111909e+06</td>\n",
              "      <td>3.561793e+08</td>\n",
              "    </tr>\n",
              "    <tr>\n",
              "      <th>isFraud</th>\n",
              "      <td>6362620.0</td>\n",
              "      <td>1.290820e-03</td>\n",
              "      <td>3.590480e-02</td>\n",
              "      <td>0.0</td>\n",
              "      <td>0.00</td>\n",
              "      <td>0.000</td>\n",
              "      <td>0.000000e+00</td>\n",
              "      <td>1.000000e+00</td>\n",
              "    </tr>\n",
              "    <tr>\n",
              "      <th>isFlaggedFraud</th>\n",
              "      <td>6362620.0</td>\n",
              "      <td>2.514687e-06</td>\n",
              "      <td>1.585775e-03</td>\n",
              "      <td>0.0</td>\n",
              "      <td>0.00</td>\n",
              "      <td>0.000</td>\n",
              "      <td>0.000000e+00</td>\n",
              "      <td>1.000000e+00</td>\n",
              "    </tr>\n",
              "  </tbody>\n",
              "</table>\n",
              "</div>\n",
              "      <button class=\"colab-df-convert\" onclick=\"convertToInteractive('df-3f2d3d2d-a99b-455e-a9ed-d0a51f2b4e31')\"\n",
              "              title=\"Convert this dataframe to an interactive table.\"\n",
              "              style=\"display:none;\">\n",
              "        \n",
              "  <svg xmlns=\"http://www.w3.org/2000/svg\" height=\"24px\"viewBox=\"0 0 24 24\"\n",
              "       width=\"24px\">\n",
              "    <path d=\"M0 0h24v24H0V0z\" fill=\"none\"/>\n",
              "    <path d=\"M18.56 5.44l.94 2.06.94-2.06 2.06-.94-2.06-.94-.94-2.06-.94 2.06-2.06.94zm-11 1L8.5 8.5l.94-2.06 2.06-.94-2.06-.94L8.5 2.5l-.94 2.06-2.06.94zm10 10l.94 2.06.94-2.06 2.06-.94-2.06-.94-.94-2.06-.94 2.06-2.06.94z\"/><path d=\"M17.41 7.96l-1.37-1.37c-.4-.4-.92-.59-1.43-.59-.52 0-1.04.2-1.43.59L10.3 9.45l-7.72 7.72c-.78.78-.78 2.05 0 2.83L4 21.41c.39.39.9.59 1.41.59.51 0 1.02-.2 1.41-.59l7.78-7.78 2.81-2.81c.8-.78.8-2.07 0-2.86zM5.41 20L4 18.59l7.72-7.72 1.47 1.35L5.41 20z\"/>\n",
              "  </svg>\n",
              "      </button>\n",
              "      \n",
              "  <style>\n",
              "    .colab-df-container {\n",
              "      display:flex;\n",
              "      flex-wrap:wrap;\n",
              "      gap: 12px;\n",
              "    }\n",
              "\n",
              "    .colab-df-convert {\n",
              "      background-color: #E8F0FE;\n",
              "      border: none;\n",
              "      border-radius: 50%;\n",
              "      cursor: pointer;\n",
              "      display: none;\n",
              "      fill: #1967D2;\n",
              "      height: 32px;\n",
              "      padding: 0 0 0 0;\n",
              "      width: 32px;\n",
              "    }\n",
              "\n",
              "    .colab-df-convert:hover {\n",
              "      background-color: #E2EBFA;\n",
              "      box-shadow: 0px 1px 2px rgba(60, 64, 67, 0.3), 0px 1px 3px 1px rgba(60, 64, 67, 0.15);\n",
              "      fill: #174EA6;\n",
              "    }\n",
              "\n",
              "    [theme=dark] .colab-df-convert {\n",
              "      background-color: #3B4455;\n",
              "      fill: #D2E3FC;\n",
              "    }\n",
              "\n",
              "    [theme=dark] .colab-df-convert:hover {\n",
              "      background-color: #434B5C;\n",
              "      box-shadow: 0px 1px 3px 1px rgba(0, 0, 0, 0.15);\n",
              "      filter: drop-shadow(0px 1px 2px rgba(0, 0, 0, 0.3));\n",
              "      fill: #FFFFFF;\n",
              "    }\n",
              "  </style>\n",
              "\n",
              "      <script>\n",
              "        const buttonEl =\n",
              "          document.querySelector('#df-3f2d3d2d-a99b-455e-a9ed-d0a51f2b4e31 button.colab-df-convert');\n",
              "        buttonEl.style.display =\n",
              "          google.colab.kernel.accessAllowed ? 'block' : 'none';\n",
              "\n",
              "        async function convertToInteractive(key) {\n",
              "          const element = document.querySelector('#df-3f2d3d2d-a99b-455e-a9ed-d0a51f2b4e31');\n",
              "          const dataTable =\n",
              "            await google.colab.kernel.invokeFunction('convertToInteractive',\n",
              "                                                     [key], {});\n",
              "          if (!dataTable) return;\n",
              "\n",
              "          const docLinkHtml = 'Like what you see? Visit the ' +\n",
              "            '<a target=\"_blank\" href=https://colab.research.google.com/notebooks/data_table.ipynb>data table notebook</a>'\n",
              "            + ' to learn more about interactive tables.';\n",
              "          element.innerHTML = '';\n",
              "          dataTable['output_type'] = 'display_data';\n",
              "          await google.colab.output.renderOutput(dataTable, element);\n",
              "          const docLink = document.createElement('div');\n",
              "          docLink.innerHTML = docLinkHtml;\n",
              "          element.appendChild(docLink);\n",
              "        }\n",
              "      </script>\n",
              "    </div>\n",
              "  </div>\n",
              "  "
            ]
          },
          "metadata": {},
          "execution_count": 11
        }
      ],
      "source": [
        "df_raw.describe().T"
      ]
    },
    {
      "cell_type": "markdown",
      "metadata": {
        "id": "sCFEl-bqRysM"
      },
      "source": [
        "# 2.0 Feature engineering"
      ]
    },
    {
      "cell_type": "code",
      "execution_count": null,
      "metadata": {
        "id": "UTHxL5GVRV1E"
      },
      "outputs": [],
      "source": [
        "df_raw['real_hour'] = round(df_raw['step']%24)"
      ]
    },
    {
      "cell_type": "code",
      "source": [
        "df_raw"
      ],
      "metadata": {
        "colab": {
          "base_uri": "https://localhost:8080/",
          "height": 424
        },
        "id": "D7QgglYOXHTR",
        "outputId": "cabceb61-9d16-49e5-9a5c-6348f31091fc"
      },
      "execution_count": null,
      "outputs": [
        {
          "output_type": "execute_result",
          "data": {
            "text/plain": [
              "         step      type      amount     nameOrig  oldbalanceOrg  \\\n",
              "0           1   PAYMENT     9839.64  C1231006815      170136.00   \n",
              "1           1   PAYMENT     1864.28  C1666544295       21249.00   \n",
              "2           1  TRANSFER      181.00  C1305486145         181.00   \n",
              "3           1  CASH_OUT      181.00   C840083671         181.00   \n",
              "4           1   PAYMENT    11668.14  C2048537720       41554.00   \n",
              "...       ...       ...         ...          ...            ...   \n",
              "6362615   743  CASH_OUT   339682.13   C786484425      339682.13   \n",
              "6362616   743  TRANSFER  6311409.28  C1529008245     6311409.28   \n",
              "6362617   743  CASH_OUT  6311409.28  C1162922333     6311409.28   \n",
              "6362618   743  TRANSFER   850002.52  C1685995037      850002.52   \n",
              "6362619   743  CASH_OUT   850002.52  C1280323807      850002.52   \n",
              "\n",
              "         newbalanceOrig     nameDest  oldbalanceDest  newbalanceDest  isFraud  \\\n",
              "0             160296.36  M1979787155            0.00            0.00        0   \n",
              "1              19384.72  M2044282225            0.00            0.00        0   \n",
              "2                  0.00   C553264065            0.00            0.00        1   \n",
              "3                  0.00    C38997010        21182.00            0.00        1   \n",
              "4              29885.86  M1230701703            0.00            0.00        0   \n",
              "...                 ...          ...             ...             ...      ...   \n",
              "6362615            0.00   C776919290            0.00       339682.13        1   \n",
              "6362616            0.00  C1881841831            0.00            0.00        1   \n",
              "6362617            0.00  C1365125890        68488.84      6379898.11        1   \n",
              "6362618            0.00  C2080388513            0.00            0.00        1   \n",
              "6362619            0.00   C873221189      6510099.11      7360101.63        1   \n",
              "\n",
              "         isFlaggedFraud  real_hour  \n",
              "0                     0          1  \n",
              "1                     0          1  \n",
              "2                     0          1  \n",
              "3                     0          1  \n",
              "4                     0          1  \n",
              "...                 ...        ...  \n",
              "6362615               0         23  \n",
              "6362616               0         23  \n",
              "6362617               0         23  \n",
              "6362618               0         23  \n",
              "6362619               0         23  \n",
              "\n",
              "[6362620 rows x 12 columns]"
            ],
            "text/html": [
              "\n",
              "  <div id=\"df-38260acc-0282-4741-a1bb-eda203925f4c\">\n",
              "    <div class=\"colab-df-container\">\n",
              "      <div>\n",
              "<style scoped>\n",
              "    .dataframe tbody tr th:only-of-type {\n",
              "        vertical-align: middle;\n",
              "    }\n",
              "\n",
              "    .dataframe tbody tr th {\n",
              "        vertical-align: top;\n",
              "    }\n",
              "\n",
              "    .dataframe thead th {\n",
              "        text-align: right;\n",
              "    }\n",
              "</style>\n",
              "<table border=\"1\" class=\"dataframe\">\n",
              "  <thead>\n",
              "    <tr style=\"text-align: right;\">\n",
              "      <th></th>\n",
              "      <th>step</th>\n",
              "      <th>type</th>\n",
              "      <th>amount</th>\n",
              "      <th>nameOrig</th>\n",
              "      <th>oldbalanceOrg</th>\n",
              "      <th>newbalanceOrig</th>\n",
              "      <th>nameDest</th>\n",
              "      <th>oldbalanceDest</th>\n",
              "      <th>newbalanceDest</th>\n",
              "      <th>isFraud</th>\n",
              "      <th>isFlaggedFraud</th>\n",
              "      <th>real_hour</th>\n",
              "    </tr>\n",
              "  </thead>\n",
              "  <tbody>\n",
              "    <tr>\n",
              "      <th>0</th>\n",
              "      <td>1</td>\n",
              "      <td>PAYMENT</td>\n",
              "      <td>9839.64</td>\n",
              "      <td>C1231006815</td>\n",
              "      <td>170136.00</td>\n",
              "      <td>160296.36</td>\n",
              "      <td>M1979787155</td>\n",
              "      <td>0.00</td>\n",
              "      <td>0.00</td>\n",
              "      <td>0</td>\n",
              "      <td>0</td>\n",
              "      <td>1</td>\n",
              "    </tr>\n",
              "    <tr>\n",
              "      <th>1</th>\n",
              "      <td>1</td>\n",
              "      <td>PAYMENT</td>\n",
              "      <td>1864.28</td>\n",
              "      <td>C1666544295</td>\n",
              "      <td>21249.00</td>\n",
              "      <td>19384.72</td>\n",
              "      <td>M2044282225</td>\n",
              "      <td>0.00</td>\n",
              "      <td>0.00</td>\n",
              "      <td>0</td>\n",
              "      <td>0</td>\n",
              "      <td>1</td>\n",
              "    </tr>\n",
              "    <tr>\n",
              "      <th>2</th>\n",
              "      <td>1</td>\n",
              "      <td>TRANSFER</td>\n",
              "      <td>181.00</td>\n",
              "      <td>C1305486145</td>\n",
              "      <td>181.00</td>\n",
              "      <td>0.00</td>\n",
              "      <td>C553264065</td>\n",
              "      <td>0.00</td>\n",
              "      <td>0.00</td>\n",
              "      <td>1</td>\n",
              "      <td>0</td>\n",
              "      <td>1</td>\n",
              "    </tr>\n",
              "    <tr>\n",
              "      <th>3</th>\n",
              "      <td>1</td>\n",
              "      <td>CASH_OUT</td>\n",
              "      <td>181.00</td>\n",
              "      <td>C840083671</td>\n",
              "      <td>181.00</td>\n",
              "      <td>0.00</td>\n",
              "      <td>C38997010</td>\n",
              "      <td>21182.00</td>\n",
              "      <td>0.00</td>\n",
              "      <td>1</td>\n",
              "      <td>0</td>\n",
              "      <td>1</td>\n",
              "    </tr>\n",
              "    <tr>\n",
              "      <th>4</th>\n",
              "      <td>1</td>\n",
              "      <td>PAYMENT</td>\n",
              "      <td>11668.14</td>\n",
              "      <td>C2048537720</td>\n",
              "      <td>41554.00</td>\n",
              "      <td>29885.86</td>\n",
              "      <td>M1230701703</td>\n",
              "      <td>0.00</td>\n",
              "      <td>0.00</td>\n",
              "      <td>0</td>\n",
              "      <td>0</td>\n",
              "      <td>1</td>\n",
              "    </tr>\n",
              "    <tr>\n",
              "      <th>...</th>\n",
              "      <td>...</td>\n",
              "      <td>...</td>\n",
              "      <td>...</td>\n",
              "      <td>...</td>\n",
              "      <td>...</td>\n",
              "      <td>...</td>\n",
              "      <td>...</td>\n",
              "      <td>...</td>\n",
              "      <td>...</td>\n",
              "      <td>...</td>\n",
              "      <td>...</td>\n",
              "      <td>...</td>\n",
              "    </tr>\n",
              "    <tr>\n",
              "      <th>6362615</th>\n",
              "      <td>743</td>\n",
              "      <td>CASH_OUT</td>\n",
              "      <td>339682.13</td>\n",
              "      <td>C786484425</td>\n",
              "      <td>339682.13</td>\n",
              "      <td>0.00</td>\n",
              "      <td>C776919290</td>\n",
              "      <td>0.00</td>\n",
              "      <td>339682.13</td>\n",
              "      <td>1</td>\n",
              "      <td>0</td>\n",
              "      <td>23</td>\n",
              "    </tr>\n",
              "    <tr>\n",
              "      <th>6362616</th>\n",
              "      <td>743</td>\n",
              "      <td>TRANSFER</td>\n",
              "      <td>6311409.28</td>\n",
              "      <td>C1529008245</td>\n",
              "      <td>6311409.28</td>\n",
              "      <td>0.00</td>\n",
              "      <td>C1881841831</td>\n",
              "      <td>0.00</td>\n",
              "      <td>0.00</td>\n",
              "      <td>1</td>\n",
              "      <td>0</td>\n",
              "      <td>23</td>\n",
              "    </tr>\n",
              "    <tr>\n",
              "      <th>6362617</th>\n",
              "      <td>743</td>\n",
              "      <td>CASH_OUT</td>\n",
              "      <td>6311409.28</td>\n",
              "      <td>C1162922333</td>\n",
              "      <td>6311409.28</td>\n",
              "      <td>0.00</td>\n",
              "      <td>C1365125890</td>\n",
              "      <td>68488.84</td>\n",
              "      <td>6379898.11</td>\n",
              "      <td>1</td>\n",
              "      <td>0</td>\n",
              "      <td>23</td>\n",
              "    </tr>\n",
              "    <tr>\n",
              "      <th>6362618</th>\n",
              "      <td>743</td>\n",
              "      <td>TRANSFER</td>\n",
              "      <td>850002.52</td>\n",
              "      <td>C1685995037</td>\n",
              "      <td>850002.52</td>\n",
              "      <td>0.00</td>\n",
              "      <td>C2080388513</td>\n",
              "      <td>0.00</td>\n",
              "      <td>0.00</td>\n",
              "      <td>1</td>\n",
              "      <td>0</td>\n",
              "      <td>23</td>\n",
              "    </tr>\n",
              "    <tr>\n",
              "      <th>6362619</th>\n",
              "      <td>743</td>\n",
              "      <td>CASH_OUT</td>\n",
              "      <td>850002.52</td>\n",
              "      <td>C1280323807</td>\n",
              "      <td>850002.52</td>\n",
              "      <td>0.00</td>\n",
              "      <td>C873221189</td>\n",
              "      <td>6510099.11</td>\n",
              "      <td>7360101.63</td>\n",
              "      <td>1</td>\n",
              "      <td>0</td>\n",
              "      <td>23</td>\n",
              "    </tr>\n",
              "  </tbody>\n",
              "</table>\n",
              "<p>6362620 rows × 12 columns</p>\n",
              "</div>\n",
              "      <button class=\"colab-df-convert\" onclick=\"convertToInteractive('df-38260acc-0282-4741-a1bb-eda203925f4c')\"\n",
              "              title=\"Convert this dataframe to an interactive table.\"\n",
              "              style=\"display:none;\">\n",
              "        \n",
              "  <svg xmlns=\"http://www.w3.org/2000/svg\" height=\"24px\"viewBox=\"0 0 24 24\"\n",
              "       width=\"24px\">\n",
              "    <path d=\"M0 0h24v24H0V0z\" fill=\"none\"/>\n",
              "    <path d=\"M18.56 5.44l.94 2.06.94-2.06 2.06-.94-2.06-.94-.94-2.06-.94 2.06-2.06.94zm-11 1L8.5 8.5l.94-2.06 2.06-.94-2.06-.94L8.5 2.5l-.94 2.06-2.06.94zm10 10l.94 2.06.94-2.06 2.06-.94-2.06-.94-.94-2.06-.94 2.06-2.06.94z\"/><path d=\"M17.41 7.96l-1.37-1.37c-.4-.4-.92-.59-1.43-.59-.52 0-1.04.2-1.43.59L10.3 9.45l-7.72 7.72c-.78.78-.78 2.05 0 2.83L4 21.41c.39.39.9.59 1.41.59.51 0 1.02-.2 1.41-.59l7.78-7.78 2.81-2.81c.8-.78.8-2.07 0-2.86zM5.41 20L4 18.59l7.72-7.72 1.47 1.35L5.41 20z\"/>\n",
              "  </svg>\n",
              "      </button>\n",
              "      \n",
              "  <style>\n",
              "    .colab-df-container {\n",
              "      display:flex;\n",
              "      flex-wrap:wrap;\n",
              "      gap: 12px;\n",
              "    }\n",
              "\n",
              "    .colab-df-convert {\n",
              "      background-color: #E8F0FE;\n",
              "      border: none;\n",
              "      border-radius: 50%;\n",
              "      cursor: pointer;\n",
              "      display: none;\n",
              "      fill: #1967D2;\n",
              "      height: 32px;\n",
              "      padding: 0 0 0 0;\n",
              "      width: 32px;\n",
              "    }\n",
              "\n",
              "    .colab-df-convert:hover {\n",
              "      background-color: #E2EBFA;\n",
              "      box-shadow: 0px 1px 2px rgba(60, 64, 67, 0.3), 0px 1px 3px 1px rgba(60, 64, 67, 0.15);\n",
              "      fill: #174EA6;\n",
              "    }\n",
              "\n",
              "    [theme=dark] .colab-df-convert {\n",
              "      background-color: #3B4455;\n",
              "      fill: #D2E3FC;\n",
              "    }\n",
              "\n",
              "    [theme=dark] .colab-df-convert:hover {\n",
              "      background-color: #434B5C;\n",
              "      box-shadow: 0px 1px 3px 1px rgba(0, 0, 0, 0.15);\n",
              "      filter: drop-shadow(0px 1px 2px rgba(0, 0, 0, 0.3));\n",
              "      fill: #FFFFFF;\n",
              "    }\n",
              "  </style>\n",
              "\n",
              "      <script>\n",
              "        const buttonEl =\n",
              "          document.querySelector('#df-38260acc-0282-4741-a1bb-eda203925f4c button.colab-df-convert');\n",
              "        buttonEl.style.display =\n",
              "          google.colab.kernel.accessAllowed ? 'block' : 'none';\n",
              "\n",
              "        async function convertToInteractive(key) {\n",
              "          const element = document.querySelector('#df-38260acc-0282-4741-a1bb-eda203925f4c');\n",
              "          const dataTable =\n",
              "            await google.colab.kernel.invokeFunction('convertToInteractive',\n",
              "                                                     [key], {});\n",
              "          if (!dataTable) return;\n",
              "\n",
              "          const docLinkHtml = 'Like what you see? Visit the ' +\n",
              "            '<a target=\"_blank\" href=https://colab.research.google.com/notebooks/data_table.ipynb>data table notebook</a>'\n",
              "            + ' to learn more about interactive tables.';\n",
              "          element.innerHTML = '';\n",
              "          dataTable['output_type'] = 'display_data';\n",
              "          await google.colab.output.renderOutput(dataTable, element);\n",
              "          const docLink = document.createElement('div');\n",
              "          docLink.innerHTML = docLinkHtml;\n",
              "          element.appendChild(docLink);\n",
              "        }\n",
              "      </script>\n",
              "    </div>\n",
              "  </div>\n",
              "  "
            ]
          },
          "metadata": {},
          "execution_count": 7
        }
      ]
    },
    {
      "cell_type": "markdown",
      "metadata": {
        "id": "X00DeaxoR1Bs"
      },
      "source": [
        "# 3.0 Analise Exploratoria dos Dados"
      ]
    },
    {
      "cell_type": "markdown",
      "metadata": {
        "id": "v3E6RGn9xP6d"
      },
      "source": [
        "## 3.1 Univariate Analysis"
      ]
    },
    {
      "cell_type": "markdown",
      "metadata": {
        "id": "VCsPMCxVxEd_"
      },
      "source": [
        "### 3.1.1 Numerical Variable"
      ]
    },
    {
      "cell_type": "code",
      "execution_count": null,
      "metadata": {
        "id": "1gVWvgzQuC1V"
      },
      "outputs": [],
      "source": [
        "num_attributes = df_raw.select_dtypes( include=['int64', 'float64'] )"
      ]
    },
    {
      "cell_type": "code",
      "execution_count": null,
      "metadata": {
        "colab": {
          "base_uri": "https://localhost:8080/",
          "height": 1000
        },
        "id": "SHaQVETBRWQs",
        "outputId": "11e13ea2-6724-4579-aaa4-44210d7023b4"
      },
      "outputs": [
        {
          "output_type": "display_data",
          "data": {
            "text/plain": [
              "<Figure size 1440x1440 with 9 Axes>"
            ],
            "image/png": "[encoded data removed]"
          },
          "metadata": {
            "needs_background": "light"
          }
        }
      ],
      "source": [
        "num_attributes.hist(bins=25, figsize=( 20, 20 ));"
      ]
    },
    {
      "cell_type": "code",
      "source": [
        "plt.figure(figsize=(8,6))\n",
        "sns.histplot(data=df_raw[df_raw['isFraud']==1],x='amount',kde=True)\n",
        "plt.title('Amount vs isFraud')\n",
        "plt.show()"
      ],
      "metadata": {
        "colab": {
          "base_uri": "https://localhost:8080/",
          "height": 404
        },
        "id": "0itNdWfrjste",
        "outputId": "e61bf24a-e3e0-4d41-9dc3-c09b0bdae306"
      },
      "execution_count": null,
      "outputs": [
        {
          "output_type": "display_data",
          "data": {
            "text/plain": [
              "<Figure size 576x432 with 1 Axes>"
            ],
            "image/png": "[encoded data removed]"
          },
          "metadata": {
            "needs_background": "light"
          }
        }
      ]
    },
    {
      "cell_type": "code",
      "source": [
        "plt.figure(figsize=(8,6))\n",
        "\n",
        "plt.subplot(121)\n",
        "ax = sns.countplot(data=df_raw,x='isFraud')\n",
        "ax.bar_label(container=ax.containers[0])\n",
        "\n",
        "plt.subplot(122)\n",
        "ax = sns.countplot(data=df_raw,x='isFlaggedFraud')\n",
        "ax.bar_label(container=ax.containers[0])\n",
        "\n",
        "plt.suptitle('Countplot do isFraud e do isFlaggedFraud')\n",
        "plt.show()"
      ],
      "metadata": {
        "colab": {
          "base_uri": "https://localhost:8080/",
          "height": 431
        },
        "id": "6mejRJOjd5XW",
        "outputId": "c8680a99-f4e0-4e57-cac1-9d7d5a75c791"
      },
      "execution_count": null,
      "outputs": [
        {
          "output_type": "display_data",
          "data": {
            "text/plain": [
              "<Figure size 576x432 with 2 Axes>"
            ],
            "image/png": "[encoded data removed]"
          },
          "metadata": {
            "needs_background": "light"
          }
        }
      ]
    },
    {
      "cell_type": "markdown",
      "source": [
        "O número de ocorrências de 'isFlaggedFraud' sendo 1 é muito pequeno, o que indica que podemos retirá-lo do dataset."
      ],
      "metadata": {
        "id": "-3bp-9NMeTnv"
      }
    },
    {
      "cell_type": "markdown",
      "metadata": {
        "id": "Eby5I-rIw_Du"
      },
      "source": [
        "### 3.1.2 Categorical Variable"
      ]
    },
    {
      "cell_type": "code",
      "execution_count": null,
      "metadata": {
        "colab": {
          "base_uri": "https://localhost:8080/",
          "height": 405
        },
        "id": "ZCGthpxpwZ-9",
        "outputId": "0db19cc9-f5fb-4749-c6d5-b731f94026af"
      },
      "outputs": [
        {
          "output_type": "display_data",
          "data": {
            "text/plain": [
              "<Figure size 576x432 with 1 Axes>"
            ],
            "image/png": "[encoded data removed]"
          },
          "metadata": {
            "needs_background": "light"
          }
        }
      ],
      "source": [
        "plt.figure(figsize=(8,6))\n",
        "ax = sns.countplot(data=df_raw,x='type',hue='isFraud')\n",
        "for i in range(len(ax.containers)):\n",
        "    ax.bar_label(container=ax.containers[i])\n",
        "plt.title('Type Vs isFraud')\n",
        "plt.show()"
      ]
    },
    {
      "cell_type": "code",
      "source": [
        "isFraudEq1 = df_raw[\"isFraud\"] == 1\n",
        "fraudsDistribution = df_raw[isFraudEq1]['type'].value_counts(normalize = True)\n",
        "print(\"Proporção de fraudes de acordo com o tipo de transação:\")\n",
        "print(fraudsDistribution,\"\\n\")\n",
        "print(\"Proporção dos tipos de transações:\")\n",
        "print(df_raw['type'].value_counts(normalize = True))"
      ],
      "metadata": {
        "colab": {
          "base_uri": "https://localhost:8080/"
        },
        "id": "rZi22vFhaJF2",
        "outputId": "62352548-9bfe-485a-80d5-3653907d4bab"
      },
      "execution_count": null,
      "outputs": [
        {
          "output_type": "stream",
          "name": "stdout",
          "text": [
            "Proporção de fraudes de acordo com o tipo de transação:\n",
            "CASH_OUT    0.501157\n",
            "TRANSFER    0.498843\n",
            "Name: type, dtype: float64 \n",
            "\n",
            "Proporção dos tipos de transações:\n",
            "CASH_OUT    0.351663\n",
            "PAYMENT     0.338146\n",
            "CASH_IN     0.219923\n",
            "TRANSFER    0.083756\n",
            "DEBIT       0.006512\n",
            "Name: type, dtype: float64\n"
          ]
        }
      ]
    },
    {
      "cell_type": "markdown",
      "source": [
        "Quase metade das transações fraudulentas são do tipo 'TRANSFER', mesmo esse tipo representando apenas cerca de 8% de todas as transações."
      ],
      "metadata": {
        "id": "lhd_Fxtqcd55"
      }
    },
    {
      "cell_type": "markdown",
      "metadata": {
        "id": "d2BOaAInxVF2"
      },
      "source": [
        "## 3.2 Multivariate Analysis"
      ]
    },
    {
      "cell_type": "code",
      "execution_count": null,
      "metadata": {
        "colab": {
          "base_uri": "https://localhost:8080/",
          "height": 1000
        },
        "id": "UUE0XamGxxSO",
        "outputId": "79b34d09-9ef0-4cbe-e1d3-3385c8f54306"
      },
      "outputs": [
        {
          "output_type": "execute_result",
          "data": {
            "text/plain": [
              "<AxesSubplot:>"
            ]
          },
          "metadata": {},
          "execution_count": 14
        },
        {
          "output_type": "display_data",
          "data": {
            "text/plain": [
              "<Figure size 1800x1368 with 2 Axes>"
            ],
            "image/png": "[encoded data removed]"
          },
          "metadata": {
            "needs_background": "light"
          }
        }
      ],
      "source": [
        "corr = df_raw.corr(method='pearson')\n",
        "plt.figure( figsize=( 25, 19 ) )\n",
        "sns.heatmap(corr, annot=True)"
      ]
    },
    {
      "cell_type": "markdown",
      "metadata": {
        "id": "NI3T0dyiSANk"
      },
      "source": [
        "# 5.0 Data Preparation"
      ]
    },
    {
      "cell_type": "markdown",
      "source": [
        "##5.1 Drop irrelevant columns"
      ],
      "metadata": {
        "id": "dQd2sGEbkRBW"
      }
    },
    {
      "cell_type": "markdown",
      "source": [
        "* Target class is 'isFraud' and rest of the columns are features\n",
        "* Will drop 'nameOrig' and 'nameDest' as we can not make any relationship with fraud and names\n",
        "* 'type' column to be converted to numeric for processing\n",
        "* 'amount', 'oldbalanceOrg', 'newbalanceOrig', 'oldbalanceDest; and 'newbalanceDest' to be normalized for speedy convergence"
      ],
      "metadata": {
        "id": "pDNJJ4r6db80"
      }
    },
    {
      "cell_type": "markdown",
      "source": [
        "Removendo também o 'step', que foi substituido pelo real_hour, e o 'isFlaggedFraud', que possui poucos casos."
      ],
      "metadata": {
        "id": "E-vlRct5emVO"
      }
    },
    {
      "cell_type": "code",
      "source": [
        "df_dropped = df_raw.drop(columns=['nameOrig', 'nameDest', 'step', 'isFlaggedFraud'])"
      ],
      "metadata": {
        "id": "Le3DC8-YkdmG"
      },
      "execution_count": null,
      "outputs": []
    },
    {
      "cell_type": "markdown",
      "source": [
        "## 5.2 Encoding"
      ],
      "metadata": {
        "id": "mTedDkF2n2s5"
      }
    },
    {
      "cell_type": "code",
      "source": [
        "df_dropped.dtypes"
      ],
      "metadata": {
        "colab": {
          "base_uri": "https://localhost:8080/"
        },
        "id": "Enttil8jn7RJ",
        "outputId": "e4008534-ab14-45f9-e646-7629132056c3"
      },
      "execution_count": null,
      "outputs": [
        {
          "output_type": "execute_result",
          "data": {
            "text/plain": [
              "type               object\n",
              "amount            float64\n",
              "oldbalanceOrg     float64\n",
              "newbalanceOrig    float64\n",
              "oldbalanceDest    float64\n",
              "newbalanceDest    float64\n",
              "isFraud             int64\n",
              "real_hour           int64\n",
              "dtype: object"
            ]
          },
          "metadata": {},
          "execution_count": 16
        }
      ]
    },
    {
      "cell_type": "code",
      "source": [
        "le = LabelEncoder()"
      ],
      "metadata": {
        "id": "C1nfxQlboBep"
      },
      "execution_count": null,
      "outputs": []
    },
    {
      "cell_type": "code",
      "source": [
        "df_dropped['type'] = le.fit_transform(df_dropped['type'] )"
      ],
      "metadata": {
        "id": "5VyRPqvoo9GJ"
      },
      "execution_count": null,
      "outputs": []
    },
    {
      "cell_type": "code",
      "source": [
        "df_dropped.dtypes"
      ],
      "metadata": {
        "colab": {
          "base_uri": "https://localhost:8080/"
        },
        "id": "fPWnQBelpyAy",
        "outputId": "e4cd1098-5b50-46f5-87df-66c37b87675a"
      },
      "execution_count": null,
      "outputs": [
        {
          "output_type": "execute_result",
          "data": {
            "text/plain": [
              "type                int64\n",
              "amount            float64\n",
              "oldbalanceOrg     float64\n",
              "newbalanceOrig    float64\n",
              "oldbalanceDest    float64\n",
              "newbalanceDest    float64\n",
              "isFraud             int64\n",
              "real_hour           int64\n",
              "dtype: object"
            ]
          },
          "metadata": {},
          "execution_count": 19
        }
      ]
    },
    {
      "cell_type": "markdown",
      "source": [
        "## 5.3 Split dataframe into training and test dataset"
      ],
      "metadata": {
        "id": "37He1Um8pkS6"
      }
    },
    {
      "cell_type": "code",
      "source": [
        "X = df_dropped.drop(\"isFraud\", axis=1)\n",
        "y = df_dropped['isFraud']"
      ],
      "metadata": {
        "id": "makv5XpQxzXN"
      },
      "execution_count": null,
      "outputs": []
    },
    {
      "cell_type": "code",
      "source": [
        "SEED = 123456\n",
        "\n",
        "df_dropped_train, df_dropped_test = train_test_split(df_dropped, \n",
        "                                                    test_size = 0.50, \n",
        "                                                    random_state = SEED, \n",
        "                                                    stratify=y)"
      ],
      "metadata": {
        "id": "xTYL064CH3ag"
      },
      "execution_count": null,
      "outputs": []
    },
    {
      "cell_type": "code",
      "source": [
        "df_dropped_train['isFraud'].mean(), df_dropped_test['isFraud'].mean()"
      ],
      "metadata": {
        "colab": {
          "base_uri": "https://localhost:8080/"
        },
        "id": "C6FUQnvSKjqH",
        "outputId": "e6499372-1d82-4efd-9992-5a6e5e06c38a"
      },
      "execution_count": null,
      "outputs": [
        {
          "output_type": "execute_result",
          "data": {
            "text/plain": [
              "(0.001290663280221041, 0.0012909776161392633)"
            ]
          },
          "metadata": {},
          "execution_count": 23
        }
      ]
    },
    {
      "cell_type": "code",
      "source": [
        "X_dropped_test = df_dropped_test.drop(\"isFraud\", axis=1)\n",
        "y_dropped_test = df_dropped_test[\"isFraud\"]"
      ],
      "metadata": {
        "id": "fSXVvOtTyUdg"
      },
      "execution_count": null,
      "outputs": []
    },
    {
      "cell_type": "code",
      "source": [
        "X_dropped_test_scaled = preprocessing.maxabs_scale(X_dropped_test)"
      ],
      "metadata": {
        "id": "yJevNeDvy7ZJ"
      },
      "execution_count": null,
      "outputs": []
    },
    {
      "cell_type": "code",
      "source": [
        "isFraud0Indexes = df_dropped_train[df_dropped_train.isFraud == 0].index\n",
        "isFraud1Indexes = df_dropped_train[df_dropped_train.isFraud == 1].index\n",
        "sampleSize = sum(df_dropped_train.isFraud == 1)\n",
        "isFraudListSamples = []\n",
        "isFraudListProportions = []\n",
        "for i in range(1, 375, 30):\n",
        "  randomIndexes = np.random.choice(isFraud0Indexes, sampleSize*i, replace=False)\n",
        "  concatenatedIndexes = np.concatenate([isFraud1Indexes, randomIndexes])\n",
        "  isFraudListSamples.append(df_dropped_train.loc[concatenatedIndexes])\n",
        "  isFraudListProportions.append(i)\n",
        "  \n",
        "randomIndexesBalanced = np.random.choice(isFraud0Indexes, sampleSize, replace=False)\n",
        "balancedIndexes = np.concatenate([isFraud1Indexes, randomIndexesBalanced])\n",
        "isFraudBalancedSample = df_dropped_train.loc[balancedIndexes]"
      ],
      "metadata": {
        "id": "Vx5yQ5QRK5Jn"
      },
      "execution_count": null,
      "outputs": []
    },
    {
      "cell_type": "code",
      "source": [
        "X_balanced = isFraudBalancedSample.drop(\"isFraud\", axis=1)\n",
        "y_balanced = isFraudBalancedSample['isFraud']"
      ],
      "metadata": {
        "id": "iRME4khxO4Eo"
      },
      "execution_count": null,
      "outputs": []
    },
    {
      "cell_type": "code",
      "source": [
        "SEED = 123456\n",
        "\n",
        "X_train, X_test, y_train, y_test = train_test_split(X, y, \n",
        "                                                    test_size = 0.99, \n",
        "                                                    random_state = SEED, \n",
        "                                                    stratify=y)"
      ],
      "metadata": {
        "id": "bNTvO9Kt2oIe"
      },
      "execution_count": null,
      "outputs": []
    },
    {
      "cell_type": "code",
      "source": [
        "y_train.mean(), y_test.mean()"
      ],
      "metadata": {
        "colab": {
          "base_uri": "https://localhost:8080/"
        },
        "id": "XPWbMCIrp5Dg",
        "outputId": "fe0102bd-7e34-4199-adfe-77ccf1d4e089"
      },
      "execution_count": null,
      "outputs": [
        {
          "output_type": "execute_result",
          "data": {
            "text/plain": [
              "(0.0012887813158142898, 0.0012908410454113785)"
            ]
          },
          "metadata": {},
          "execution_count": 27
        }
      ]
    },
    {
      "cell_type": "code",
      "source": [
        "print(\"Proporção no dataset de treino desbalanceado:\")\n",
        "print(y_train.value_counts())\n",
        "print(y_train.value_counts(normalize=True))\n",
        "print(\"\\nProporção no dataset de treino balanceado:\")\n",
        "print(y_balanced.value_counts())\n",
        "print(y_balanced.value_counts(normalize=True))\n",
        "print(\"\\nProporção no dataset de teste:\")\n",
        "print(y_test.value_counts())\n",
        "print(y_train.value_counts(normalize=True))"
      ],
      "metadata": {
        "colab": {
          "base_uri": "https://localhost:8080/"
        },
        "id": "_Imic2mFpFyB",
        "outputId": "cd62a298-8c83-4667-95ab-4f16b18bd3ef"
      },
      "execution_count": null,
      "outputs": [
        {
          "output_type": "stream",
          "name": "stdout",
          "text": [
            "Proporção no dataset de treino desbalanceado:\n",
            "0    63544\n",
            "1       82\n",
            "Name: isFraud, dtype: int64\n",
            "0    0.998711\n",
            "1    0.001289\n",
            "Name: isFraud, dtype: float64\n",
            "\n",
            "Proporção no dataset de treino balanceado:\n",
            "1    4106\n",
            "0    4106\n",
            "Name: isFraud, dtype: int64\n",
            "1    0.5\n",
            "0    0.5\n",
            "Name: isFraud, dtype: float64\n",
            "\n",
            "Proporção no dataset de teste:\n",
            "0    6290863\n",
            "1       8131\n",
            "Name: isFraud, dtype: int64\n",
            "0    0.998711\n",
            "1    0.001289\n",
            "Name: isFraud, dtype: float64\n"
          ]
        }
      ]
    },
    {
      "cell_type": "markdown",
      "source": [
        "É possível ver que a proporção permaneceu a mesma."
      ],
      "metadata": {
        "id": "aYEG1Q9PgAf3"
      }
    },
    {
      "cell_type": "markdown",
      "source": [
        "## 5.4 Scaling the features"
      ],
      "metadata": {
        "id": "FyFCiYO0gUxR"
      }
    },
    {
      "cell_type": "markdown",
      "source": [
        "Feito separadamente para evidar data leak."
      ],
      "metadata": {
        "id": "hWTIx7d2hCRn"
      }
    },
    {
      "cell_type": "code",
      "source": [
        "X_balanced_scaled = preprocessing.maxabs_scale(X_balanced)\n",
        "X_train_scaled = preprocessing.maxabs_scale(X_train)\n",
        "X_test_scaled = preprocessing.maxabs_scale(X_test)"
      ],
      "metadata": {
        "id": "UKXH9ehUggVp"
      },
      "execution_count": null,
      "outputs": []
    },
    {
      "cell_type": "markdown",
      "source": [
        "## 5.5 Converting to ndarray"
      ],
      "metadata": {
        "id": "ZMAskYzKorvu"
      }
    },
    {
      "cell_type": "code",
      "source": [
        "y_balanced_ndarray = y_balanced.to_numpy()\n",
        "y_train_ndarray = y_train.to_numpy()\n",
        "y_test_ndarray = y_test.to_numpy()"
      ],
      "metadata": {
        "id": "8guLo2WEoun2"
      },
      "execution_count": null,
      "outputs": []
    },
    {
      "cell_type": "markdown",
      "metadata": {
        "id": "b_-ae1utSBV8"
      },
      "source": [
        "# 6.0 Feature Selection\n"
      ]
    },
    {
      "cell_type": "markdown",
      "source": [
        "Optamos por não usar um algoritmo de seleção de features ja que existem poucas em nosso conjunto de dados."
      ],
      "metadata": {
        "id": "c8hH4SVtuqEl"
      }
    },
    {
      "cell_type": "markdown",
      "metadata": {
        "id": "qEO7VLcfSJyU"
      },
      "source": [
        "# 7.0 ML models "
      ]
    },
    {
      "cell_type": "markdown",
      "source": [
        "## 7.1 Naive Bayes (Baseline model)"
      ],
      "metadata": {
        "id": "bhez7qgo2Qqm"
      }
    },
    {
      "cell_type": "code",
      "source": [
        "X_train.info()"
      ],
      "metadata": {
        "colab": {
          "base_uri": "https://localhost:8080/"
        },
        "id": "DjEeBOmJr6Lz",
        "outputId": "6dab741e-7c82-473e-9342-fbdc879aa05c"
      },
      "execution_count": null,
      "outputs": [
        {
          "output_type": "stream",
          "name": "stdout",
          "text": [
            "<class 'pandas.core.frame.DataFrame'>\n",
            "Int64Index: 63626 entries, 4670980 to 1134446\n",
            "Data columns (total 7 columns):\n",
            " #   Column          Non-Null Count  Dtype  \n",
            "---  ------          --------------  -----  \n",
            " 0   type            63626 non-null  int64  \n",
            " 1   amount          63626 non-null  float64\n",
            " 2   oldbalanceOrg   63626 non-null  float64\n",
            " 3   newbalanceOrig  63626 non-null  float64\n",
            " 4   oldbalanceDest  63626 non-null  float64\n",
            " 5   newbalanceDest  63626 non-null  float64\n",
            " 6   real_hour       63626 non-null  int64  \n",
            "dtypes: float64(5), int64(2)\n",
            "memory usage: 3.9 MB\n"
          ]
        }
      ]
    },
    {
      "cell_type": "code",
      "source": [
        "# model\n",
        "nb = GaussianNB().fit(X_train_scaled, y_train)\n",
        "\n",
        "# prediction\n",
        "yhat_nb = nb.predict( X_test_scaled )\n",
        "\n",
        "# performance\n",
        "cr_nb = classification_report(y_test, yhat_nb)\n",
        "print(cr_nb)\n",
        "print(\"Score no dataset de treino:\",nb.score(X_train_scaled, y_train))\n",
        "print(\"Score no dataset de teste:\",nb.score(X_test_scaled, y_test))"
      ],
      "metadata": {
        "colab": {
          "base_uri": "https://localhost:8080/"
        },
        "id": "u0sJTWR12Vt2",
        "outputId": "d9804667-f50c-4eb0-a2d0-163721712158"
      },
      "execution_count": null,
      "outputs": [
        {
          "output_type": "stream",
          "name": "stdout",
          "text": [
            "              precision    recall  f1-score   support\n",
            "\n",
            "           0       1.00      1.00      1.00   6290863\n",
            "           1       0.18      0.08      0.11      8131\n",
            "\n",
            "    accuracy                           1.00   6298994\n",
            "   macro avg       0.59      0.54      0.55   6298994\n",
            "weighted avg       1.00      1.00      1.00   6298994\n",
            "\n",
            "Score no dataset de treino: 0.99548926539465\n",
            "Score no dataset de teste: 0.9983376710630301\n"
          ]
        }
      ]
    },
    {
      "cell_type": "code",
      "source": [
        "cm_nb = metrics.confusion_matrix(y_test, yhat_nb)\n",
        "sns.heatmap(cm_nb, annot=True, cmap='Blues', fmt='d')"
      ],
      "metadata": {
        "colab": {
          "base_uri": "https://localhost:8080/",
          "height": 293
        },
        "id": "3CgPY0Hpu494",
        "outputId": "08455c5c-a8be-477a-e907-c829e8985e7b"
      },
      "execution_count": null,
      "outputs": [
        {
          "output_type": "execute_result",
          "data": {
            "text/plain": [
              "<AxesSubplot:>"
            ]
          },
          "metadata": {},
          "execution_count": 33
        },
        {
          "output_type": "display_data",
          "data": {
            "text/plain": [
              "<Figure size 432x288 with 2 Axes>"
            ],
            "image/png": "[encoded data removed]"
          },
          "metadata": {
            "needs_background": "light"
          }
        }
      ]
    },
    {
      "cell_type": "code",
      "source": [
        "# model\n",
        "balanced_nb = GaussianNB().fit(X_balanced_scaled, y_balanced)\n",
        "\n",
        "# prediction\n",
        "balanced_yhat_nb = balanced_nb.predict( X_test_scaled )\n",
        "\n",
        "# performance\n",
        "cr_balanced_nb = classification_report(y_test, balanced_yhat_nb)\n",
        "print(cr_balanced_nb)\n",
        "print(\"Score no dataset de treino:\",balanced_nb.score(X_balanced_scaled, y_balanced))\n",
        "print(\"Score no dataset de teste:\",balanced_nb.score(X_test_scaled, y_test))"
      ],
      "metadata": {
        "colab": {
          "base_uri": "https://localhost:8080/"
        },
        "id": "x_lgpjNVRjda",
        "outputId": "06c3afe2-4916-4d45-9df5-2f393988e484"
      },
      "execution_count": null,
      "outputs": [
        {
          "output_type": "stream",
          "name": "stdout",
          "text": [
            "              precision    recall  f1-score   support\n",
            "\n",
            "           0       1.00      0.97      0.98   6290863\n",
            "           1       0.02      0.46      0.04      8131\n",
            "\n",
            "    accuracy                           0.97   6298994\n",
            "   macro avg       0.51      0.71      0.51   6298994\n",
            "weighted avg       1.00      0.97      0.98   6298994\n",
            "\n",
            "Score no dataset de treino: 0.77496346809547\n",
            "Score no dataset de teste: 0.9675805374636013\n"
          ]
        }
      ]
    },
    {
      "cell_type": "code",
      "source": [
        "cm_balanced_nb = metrics.confusion_matrix(y_test, balanced_yhat_nb)\n",
        "sns.heatmap(cm_balanced_nb, annot=True, cmap='Blues', fmt='d')"
      ],
      "metadata": {
        "colab": {
          "base_uri": "https://localhost:8080/",
          "height": 293
        },
        "id": "3ICi8_EkSsJH",
        "outputId": "b51baecf-0f62-4d06-b80e-0264a3878506"
      },
      "execution_count": null,
      "outputs": [
        {
          "output_type": "execute_result",
          "data": {
            "text/plain": [
              "<AxesSubplot:>"
            ]
          },
          "metadata": {},
          "execution_count": 35
        },
        {
          "output_type": "display_data",
          "data": {
            "text/plain": [
              "<Figure size 432x288 with 2 Axes>"
            ],
            "image/png": "[encoded data removed]"
          },
          "metadata": {
            "needs_background": "light"
          }
        }
      ]
    },
    {
      "cell_type": "markdown",
      "source": [
        "### Cross-validation\n"
      ],
      "metadata": {
        "id": "AcgT6M4QuGg6"
      }
    },
    {
      "cell_type": "code",
      "source": [
        "nb_samples_precision = []\n",
        "nb_samples_recall = []\n",
        "for df_sample in isFraudListSamples:\n",
        "  X_sample = df_sample.drop(\"isFraud\", axis=1)\n",
        "  y_sample = df_sample['isFraud']\n",
        "\n",
        "  X_sample_scaled = preprocessing.maxabs_scale(X_sample)\n",
        "  # model\n",
        "  sample_nb = GaussianNB().fit(X_sample_scaled, y_sample)\n",
        "\n",
        "  # prediction\n",
        "  sample_yhat_nb = sample_nb.predict( X_dropped_test_scaled )\n",
        "\n",
        "  # performance\n",
        "  precision = precision_score(y_dropped_test, sample_yhat_nb, average='binary')\n",
        "  recall = recall_score(y_dropped_test, sample_yhat_nb, average='binary')\n",
        "  nb_samples_precision.append(precision)\n",
        "  nb_samples_recall.append(recall)"
      ],
      "metadata": {
        "id": "rqufmj7MuLEX"
      },
      "execution_count": null,
      "outputs": []
    },
    {
      "cell_type": "code",
      "source": [
        "fig, ax = plt.subplots(figsize=(15,8))\n",
        "ax.set_xlabel(\"Proporção de 0's para 1's\")\n",
        "ax.set_ylabel(\"Precisão e recall\")\n",
        "ax.set_title(\"Proporção x Precisão e recall\")\n",
        "ax.plot(isFraudListProportions, nb_samples_precision, marker='o', label=\"precision\")\n",
        "ax.plot(isFraudListProportions, nb_samples_recall, marker='o', label=\"recall\")\n",
        "for f, t, v in zip(isFraudListProportions, nb_samples_precision, nb_samples_recall):\n",
        "      plt.text(f, t, \"%.5f\" % round(t,3))\n",
        "      plt.text(f, v, \"%.5f\" % round(v,3))\n",
        "ax.legend()\n",
        "plt.show()"
      ],
      "metadata": {
        "colab": {
          "base_uri": "https://localhost:8080/",
          "height": 513
        },
        "id": "QOSx4D85qNTY",
        "outputId": "634975da-5343-48a5-9f12-be1b410ed4f6"
      },
      "execution_count": null,
      "outputs": [
        {
          "output_type": "display_data",
          "data": {
            "text/plain": [
              "<Figure size 1080x576 with 1 Axes>"
            ],
            "image/png": "[encoded data removed]"
          },
          "metadata": {
            "needs_background": "light"
          }
        }
      ]
    },
    {
      "cell_type": "markdown",
      "source": [
        "## 7.2 RandomForestClassifier\n"
      ],
      "metadata": {
        "id": "txuzYv9rzz49"
      }
    },
    {
      "cell_type": "code",
      "execution_count": null,
      "metadata": {
        "id": "6CAMrvMfSGx0",
        "colab": {
          "base_uri": "https://localhost:8080/"
        },
        "outputId": "a5afb8da-7587-4989-dd89-d768bf1bd893"
      },
      "outputs": [
        {
          "output_type": "stream",
          "name": "stdout",
          "text": [
            "              precision    recall  f1-score   support\n",
            "\n",
            "           0       1.00      1.00      1.00   6290863\n",
            "           1       0.99      0.56      0.71      8131\n",
            "\n",
            "    accuracy                           1.00   6298994\n",
            "   macro avg       1.00      0.78      0.86   6298994\n",
            "weighted avg       1.00      1.00      1.00   6298994\n",
            "\n",
            "Score no dataset de treino: 0.9999528494640556\n",
            "Score no dataset de teste: 0.9994202248803539\n"
          ]
        }
      ],
      "source": [
        "# model\n",
        "rf = RandomForestClassifier( n_estimators=10, n_jobs=-1, random_state=42 ).fit( X_train_scaled, y_train )\n",
        "\n",
        "# prediction\n",
        "yhat_rf = rf.predict( X_test_scaled )\n",
        "\n",
        "# performance\n",
        "print(classification_report(y_test, yhat_rf))\n",
        "print(\"Score no dataset de treino:\",rf.score(X_train_scaled, y_train))\n",
        "print(\"Score no dataset de teste:\",rf.score(X_test_scaled, y_test))"
      ]
    },
    {
      "cell_type": "code",
      "source": [
        "cm_rf = metrics.confusion_matrix(y_test, yhat_rf)\n",
        "sns.heatmap(cm_rf, annot=True, cmap='Blues', fmt='d')"
      ],
      "metadata": {
        "colab": {
          "base_uri": "https://localhost:8080/",
          "height": 293
        },
        "id": "Yec4gtEn0xK3",
        "outputId": "73721a3d-ca9c-4385-de6a-9a0a3c797270"
      },
      "execution_count": null,
      "outputs": [
        {
          "output_type": "execute_result",
          "data": {
            "text/plain": [
              "<AxesSubplot:>"
            ]
          },
          "metadata": {},
          "execution_count": 47
        },
        {
          "output_type": "display_data",
          "data": {
            "text/plain": [
              "<Figure size 432x288 with 2 Axes>"
            ],
            "image/png": "[encoded data removed]"
          },
          "metadata": {
            "needs_background": "light"
          }
        }
      ]
    },
    {
      "cell_type": "code",
      "source": [
        "# model\n",
        "balanced_rf = RandomForestClassifier( n_estimators=10, n_jobs=-1, random_state=42 ).fit(X_balanced_scaled, y_balanced)\n",
        "\n",
        "# prediction\n",
        "balanced_yhat_rf = balanced_rf.predict( X_test_scaled )\n",
        "\n",
        "# performance\n",
        "cr_balanced_rf = classification_report(y_test, balanced_yhat_rf)\n",
        "print(cr_balanced_rf)\n",
        "print(\"Score no dataset de treino:\",balanced_rf.score(X_balanced_scaled, y_balanced))\n",
        "print(\"Score no dataset de teste:\",balanced_rf.score(X_test_scaled, y_test))"
      ],
      "metadata": {
        "colab": {
          "base_uri": "https://localhost:8080/"
        },
        "id": "GdJkDs0WTPrp",
        "outputId": "5f2df3e3-1039-43ef-a6a7-1e4cee95887e"
      },
      "execution_count": null,
      "outputs": [
        {
          "output_type": "stream",
          "name": "stdout",
          "text": [
            "              precision    recall  f1-score   support\n",
            "\n",
            "           0       1.00      0.91      0.95   6290863\n",
            "           1       0.01      0.97      0.03      8131\n",
            "\n",
            "    accuracy                           0.91   6298994\n",
            "   macro avg       0.51      0.94      0.49   6298994\n",
            "weighted avg       1.00      0.91      0.95   6298994\n",
            "\n",
            "Score no dataset de treino: 0.9987834549878345\n",
            "Score no dataset de teste: 0.9119741977845987\n"
          ]
        }
      ]
    },
    {
      "cell_type": "code",
      "source": [
        "cm_balanced_rf = metrics.confusion_matrix(y_test, balanced_yhat_rf)\n",
        "sns.heatmap(cm_balanced_rf, annot=True, cmap='Blues', fmt='d')"
      ],
      "metadata": {
        "colab": {
          "base_uri": "https://localhost:8080/",
          "height": 293
        },
        "id": "bk9MdVn7Tx8H",
        "outputId": "22b82fa8-b41d-4801-bcc1-f8b40cfde9dc"
      },
      "execution_count": null,
      "outputs": [
        {
          "output_type": "execute_result",
          "data": {
            "text/plain": [
              "<AxesSubplot:>"
            ]
          },
          "metadata": {},
          "execution_count": 49
        },
        {
          "output_type": "display_data",
          "data": {
            "text/plain": [
              "<Figure size 432x288 with 2 Axes>"
            ],
            "image/png": "[encoded data removed]"
          },
          "metadata": {
            "needs_background": "light"
          }
        }
      ]
    },
    {
      "cell_type": "markdown",
      "source": [
        "### Cross-validation"
      ],
      "metadata": {
        "id": "HBQPNXWIwdkC"
      }
    },
    {
      "cell_type": "code",
      "source": [
        "rf_samples_precision = []\n",
        "rf_samples_recall = []\n",
        "for df_sample in isFraudListSamples:\n",
        "  X_sample = df_sample.drop(\"isFraud\", axis=1)\n",
        "  y_sample = df_sample['isFraud']\n",
        "\n",
        "  X_sample_scaled = preprocessing.maxabs_scale(X_sample)\n",
        "  # model\n",
        "  sample_rf = RandomForestClassifier( n_estimators=20, n_jobs=-1 ).fit(X_sample_scaled, y_sample)\n",
        "\n",
        "  # prediction\n",
        "  sample_yhat_rf = sample_rf.predict( X_dropped_test_scaled )\n",
        "\n",
        "  # performance\n",
        "  precision = precision_score(y_dropped_test, sample_yhat_rf, average='binary')\n",
        "  recall = recall_score(y_dropped_test, sample_yhat_rf, average='binary')\n",
        "  rf_samples_precision.append(precision)\n",
        "  rf_samples_recall.append(recall)"
      ],
      "metadata": {
        "id": "x7CM3lAFwjV0"
      },
      "execution_count": null,
      "outputs": []
    },
    {
      "cell_type": "code",
      "source": [
        "fig, ax = plt.subplots(figsize=(15,8))\n",
        "ax.set_xlabel(\"Proporção de 0's para 1's\")\n",
        "ax.set_ylabel(\"Precisão e recall\")\n",
        "ax.set_title(\"Proporção x Precisão e recall\")\n",
        "ax.plot(isFraudListProportions, rf_samples_precision, marker='o', label=\"precision\")\n",
        "ax.plot(isFraudListProportions, rf_samples_recall, marker='o', label=\"recall\")\n",
        "for f, t, v in zip(isFraudListProportions, rf_samples_precision, rf_samples_recall):\n",
        "      plt.text(f, t, \"%.5f\" % round(t,3))\n",
        "      plt.text(f, v, \"%.5f\" % round(v,3))\n",
        "ax.legend()\n",
        "plt.show()"
      ],
      "metadata": {
        "colab": {
          "base_uri": "https://localhost:8080/",
          "height": 513
        },
        "id": "_YjPQsDUxYFp",
        "outputId": "dbcd8b61-8870-443f-9d89-db2a730a220a"
      },
      "execution_count": null,
      "outputs": [
        {
          "output_type": "display_data",
          "data": {
            "text/plain": [
              "<Figure size 1080x576 with 1 Axes>"
            ],
            "image/png": "[encoded data removed]"
          },
          "metadata": {
            "needs_background": "light"
          }
        }
      ]
    },
    {
      "cell_type": "markdown",
      "source": [
        "## 7.3 Multi-layer perceptron"
      ],
      "metadata": {
        "id": "931CNla72WM2"
      }
    },
    {
      "cell_type": "code",
      "source": [
        "# model\n",
        "mlp = MLPClassifier(random_state = SEED)\n",
        "mlp.fit(X_train_scaled, y_train)\n",
        "\n",
        "# prediction\n",
        "yhat_mlp = mlp.predict( X_test_scaled )\n",
        "\n",
        "# performance\n",
        "print(classification_report(y_test, yhat_mlp))\n",
        "print(\"Score no dataset de treino:\",mlp.score(X_train_scaled, y_train))\n",
        "print(\"Score no dataset de teste:\",mlp.score(X_test_scaled, y_test))"
      ],
      "metadata": {
        "colab": {
          "base_uri": "https://localhost:8080/"
        },
        "id": "4-ahiBr62a-m",
        "outputId": "990eac22-0a80-4222-d853-871ed9448fd2"
      },
      "execution_count": null,
      "outputs": [
        {
          "output_type": "stream",
          "name": "stdout",
          "text": [
            "              precision    recall  f1-score   support\n",
            "\n",
            "           0       1.00      1.00      1.00   6290863\n",
            "           1       0.99      0.03      0.06      8131\n",
            "\n",
            "    accuracy                           1.00   6298994\n",
            "   macro avg       1.00      0.51      0.53   6298994\n",
            "weighted avg       1.00      1.00      1.00   6298994\n",
            "\n",
            "Score no dataset de treino: 0.9988369534467042\n",
            "Score no dataset de teste: 0.9987455139661984\n"
          ]
        }
      ]
    },
    {
      "cell_type": "code",
      "source": [
        "cm_mlp = metrics.confusion_matrix(y_test, yhat_mlp)\n",
        "sns.heatmap(cm_mlp, annot=True, cmap='Blues', fmt='d')"
      ],
      "metadata": {
        "colab": {
          "base_uri": "https://localhost:8080/",
          "height": 293
        },
        "id": "GvoEBAr509Tv",
        "outputId": "8930b387-69b4-4cd7-9d60-50bc0748bb42"
      },
      "execution_count": null,
      "outputs": [
        {
          "output_type": "execute_result",
          "data": {
            "text/plain": [
              "<AxesSubplot:>"
            ]
          },
          "metadata": {},
          "execution_count": 51
        },
        {
          "output_type": "display_data",
          "data": {
            "text/plain": [
              "<Figure size 432x288 with 2 Axes>"
            ],
            "image/png": "[encoded data removed]"
          },
          "metadata": {
            "needs_background": "light"
          }
        }
      ]
    },
    {
      "cell_type": "code",
      "source": [
        "# model\n",
        "balanced_mlp = MLPClassifier(random_state = SEED)\n",
        "balanced_mlp.fit(X_balanced_scaled, y_balanced)\n",
        "\n",
        "# prediction\n",
        "balanced_yhat_mlp = balanced_mlp.predict( X_test_scaled )\n",
        "\n",
        "# performance\n",
        "cr_balanced_mlp = classification_report(y_test, balanced_yhat_mlp)\n",
        "print(cr_balanced_mlp)\n",
        "print(\"Score no dataset de treino:\",balanced_mlp.score(X_balanced_scaled, y_balanced))\n",
        "print(\"Score no dataset de teste:\",balanced_mlp.score(X_test_scaled, y_test))"
      ],
      "metadata": {
        "colab": {
          "base_uri": "https://localhost:8080/"
        },
        "id": "ehrQC59aUhXB",
        "outputId": "a25d5fe3-c4c3-46c4-851c-0724aabecbf1"
      },
      "execution_count": null,
      "outputs": [
        {
          "output_type": "stream",
          "name": "stderr",
          "text": [
            "/usr/local/lib/python3.7/dist-packages/sklearn/neural_network/_multilayer_perceptron.py:696: ConvergenceWarning: Stochastic Optimizer: Maximum iterations (200) reached and the optimization hasn't converged yet.\n",
            "  ConvergenceWarning,\n"
          ]
        },
        {
          "output_type": "stream",
          "name": "stdout",
          "text": [
            "              precision    recall  f1-score   support\n",
            "\n",
            "           0       1.00      0.93      0.96   6290863\n",
            "           1       0.01      0.59      0.02      8131\n",
            "\n",
            "    accuracy                           0.93   6298994\n",
            "   macro avg       0.51      0.76      0.49   6298994\n",
            "weighted avg       1.00      0.93      0.96   6298994\n",
            "\n",
            "Score no dataset de treino: 0.8333333333333334\n",
            "Score no dataset de teste: 0.931624954714991\n"
          ]
        }
      ]
    },
    {
      "cell_type": "code",
      "source": [
        "cm_balanced_mlp = metrics.confusion_matrix(y_test, balanced_yhat_mlp)\n",
        "sns.heatmap(cm_balanced_mlp, annot=True, cmap='Blues', fmt='d')"
      ],
      "metadata": {
        "colab": {
          "base_uri": "https://localhost:8080/",
          "height": 293
        },
        "id": "fPs_WBl4Un8a",
        "outputId": "aea20f31-e224-41a7-82ce-f69d19625ddf"
      },
      "execution_count": null,
      "outputs": [
        {
          "output_type": "execute_result",
          "data": {
            "text/plain": [
              "<AxesSubplot:>"
            ]
          },
          "metadata": {},
          "execution_count": 53
        },
        {
          "output_type": "display_data",
          "data": {
            "text/plain": [
              "<Figure size 432x288 with 2 Axes>"
            ],
            "image/png": "[encoded data removed]"
          },
          "metadata": {
            "needs_background": "light"
          }
        }
      ]
    },
    {
      "cell_type": "markdown",
      "source": [
        "###Cross-validation"
      ],
      "metadata": {
        "id": "md_Strcc6paG"
      }
    },
    {
      "cell_type": "code",
      "source": [
        "mlp_samples_precision = []\n",
        "mlp_samples_recall = []\n",
        "for df_sample in isFraudListSamples:\n",
        "  X_sample = df_sample.drop(\"isFraud\", axis=1)\n",
        "  y_sample = df_sample['isFraud']\n",
        "\n",
        "  X_sample_scaled = preprocessing.maxabs_scale(X_sample)\n",
        "  # model\n",
        "  sample_mlp = MLPClassifier(random_state = SEED, max_iter=400).fit(X_sample_scaled, y_sample)\n",
        "  sample_mlp.fit(X_sample_scaled, y_sample)\n",
        "\n",
        "  # prediction\n",
        "  sample_yhat_mlp = sample_mlp.predict( X_dropped_test_scaled )\n",
        "\n",
        "  # performance\n",
        "  precision = precision_score(y_dropped_test, sample_yhat_mlp, average='binary')\n",
        "  recall = recall_score(y_dropped_test, sample_yhat_mlp, average='binary')\n",
        "  mlp_samples_precision.append(precision)\n",
        "  mlp_samples_recall.append(recall)"
      ],
      "metadata": {
        "id": "adKtKMcn6o9L"
      },
      "execution_count": null,
      "outputs": []
    },
    {
      "cell_type": "code",
      "source": [
        "isFraudListProportions5 = isFraudListProportions[:5]\n",
        "fig, ax = plt.subplots(figsize=(15,8))\n",
        "ax.set_xlabel(\"Proporção de 0's para 1's\")\n",
        "ax.set_ylabel(\"Precisão e recall\")\n",
        "ax.set_title(\"Proporção x Precisão e recall\")\n",
        "ax.plot(isFraudListProportions5, mlp_samples_precision, marker='o', label=\"precision\")\n",
        "ax.plot(isFraudListProportions5, mlp_samples_recall, marker='o', label=\"recall\")\n",
        "for f, t, v in zip(isFraudListProportions5, mlp_samples_precision, mlp_samples_recall):\n",
        "      plt.text(f, t, \"%.5f\" % round(t,3))\n",
        "      plt.text(f, v, \"%.5f\" % round(v,3))\n",
        "ax.legend()\n",
        "plt.show()"
      ],
      "metadata": {
        "colab": {
          "base_uri": "https://localhost:8080/",
          "height": 513
        },
        "id": "tHLb2P297XMt",
        "outputId": "74bdae3c-fc83-44e0-a95a-e4f98606d9b7"
      },
      "execution_count": null,
      "outputs": [
        {
          "output_type": "display_data",
          "data": {
            "text/plain": [
              "<Figure size 1080x576 with 1 Axes>"
            ],
            "image/png": "[encoded data removed]"
          },
          "metadata": {
            "needs_background": "light"
          }
        }
      ]
    }
  ],
  "metadata": {
    "colab": {
      "provenance": []
    },
    "kernelspec": {
      "display_name": "Python 3",
      "name": "python3"
    },
    "language_info": {
      "name": "python"
    }
  },
  "nbformat": 4,
  "nbformat_minor": 0
}